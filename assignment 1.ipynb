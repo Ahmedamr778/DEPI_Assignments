{
 "cells": [
  {
   "cell_type": "code",
   "execution_count": 2,
   "id": "29abee45",
   "metadata": {},
   "outputs": [
    {
     "name": "stdout",
     "output_type": "stream",
     "text": [
      "Hello, Python learners! Today we start our coding journey.\n",
      "My name is ahmed.\n",
      "My favorite programming language is Python.\n"
     ]
    }
   ],
   "source": [
    "print(\"Hello, Python learners! Today we start our coding journey.\")\n",
    "print(\"\"\"My name is ahmed.\n",
    "My favorite programming language is Python.\"\"\")\n"
   ]
  },
  {
   "cell_type": "code",
   "execution_count": 3,
   "id": "c7cb5545",
   "metadata": {},
   "outputs": [
    {
     "name": "stdout",
     "output_type": "stream",
     "text": [
      "I am 25 years old.\n",
      "Integer variable: 10 (Type: int)\n",
      "Float variable: 3.14 (Type: float)\n",
      "String variable: 'Python' (Type: str)\n"
     ]
    }
   ],
   "source": [
    "age = 25 \n",
    "print(f\"I am {age} years old.\")\n",
    "\n",
    "integer_var = 10\n",
    "float_var = 3.14\n",
    "string_var = \"Python\"\n",
    "\n",
    "print(f\"Integer variable: {integer_var} (Type: {type(integer_var).__name__})\")\n",
    "print(f\"Float variable: {float_var} (Type: {type(float_var).__name__})\")\n",
    "print(f\"String variable: '{string_var}' (Type: {type(string_var).__name__})\")\n"
   ]
  },
  {
   "cell_type": "code",
   "execution_count": 4,
   "id": "986f94ca",
   "metadata": {},
   "outputs": [
    {
     "name": "stdout",
     "output_type": "stream",
     "text": [
      "amazing\n",
      "JOHN DOE\n"
     ]
    }
   ],
   "source": [
    "text = \"Python is amazing\"\n",
    "print(text.split()[-1])\n",
    "first_name = \"John\"\n",
    "last_name = \"Doe\"\n",
    "full_name = f\"{first_name} {last_name}\"\n",
    "print(full_name.upper())\n"
   ]
  },
  {
   "cell_type": "code",
   "execution_count": 5,
   "id": "df5945bb",
   "metadata": {},
   "outputs": [
    {
     "name": "stdout",
     "output_type": "stream",
     "text": [
      "Area of the rectangle is 50.\n",
      "Addition: 27\n",
      "Subtraction: 13\n",
      "Multiplication: 140\n",
      "Division: 2.857142857142857\n",
      "Modulo: 6\n"
     ]
    }
   ],
   "source": [
    "width = 5\n",
    "height = 10\n",
    "area = width * height\n",
    "print(f\"Area of the rectangle is {area}.\")\n",
    "\n",
    "a, b = 20, 7\n",
    "print(f\"Addition: {a + b}\")\n",
    "print(f\"Subtraction: {a - b}\")\n",
    "print(f\"Multiplication: {a * b}\")\n",
    "print(f\"Division: {a / b}\")\n",
    "print(f\"Modulo: {a % b}\")\n"
   ]
  },
  {
   "cell_type": "code",
   "execution_count": 6,
   "id": "40ddbfff",
   "metadata": {},
   "outputs": [
    {
     "name": "stdout",
     "output_type": "stream",
     "text": [
      "['Pizza', 'Burger', 'Pasta', 'Ice Cream', 'Salad']\n",
      "Pasta\n"
     ]
    }
   ],
   "source": [
    "favorite_foods = [\"Pizza\", \"Burger\", \"Pasta\", \"Ice Cream\", \"Salad\"]\n",
    "print(favorite_foods)\n",
    "print(favorite_foods[2])\n",
    "\n",
    "\n",
    "foods_tuple = tuple(favorite_foods)"
   ]
  },
  {
   "cell_type": "code",
   "execution_count": 7,
   "id": "7ceb260f",
   "metadata": {},
   "outputs": [
    {
     "name": "stdout",
     "output_type": "stream",
     "text": [
      "Python\n",
      "Learning Python is awesome!\n"
     ]
    }
   ],
   "source": [
    "sentence = \"Learning Python is fun!\"\n",
    "print(sentence[9:15])\n",
    "\n",
    "new_sentence = sentence.replace(\"fun\", \"awesome\")\n",
    "print(new_sentence)\n"
   ]
  },
  {
   "cell_type": "code",
   "execution_count": 8,
   "id": "c14f4cb8",
   "metadata": {},
   "outputs": [
    {
     "name": "stdout",
     "output_type": "stream",
     "text": [
      "{'name': 'John', 'age': 21, 'grade': 'A'}\n",
      "{'name': 'John', 'age': 21, 'grade': 'A', 'city': 'New York'}\n"
     ]
    }
   ],
   "source": [
    "student = {\"name\": \"John\", \"age\": 21, \"grade\": \"A\"}\n",
    "print(student)\n",
    "\n",
    "student[\"city\"] = \"New York\"\n",
    "print(student)\n"
   ]
  },
  {
   "cell_type": "code",
   "execution_count": 11,
   "id": "55d3c54c",
   "metadata": {},
   "outputs": [
    {
     "name": "stdout",
     "output_type": "stream",
     "text": [
      "Enter the first number: 2\n",
      "Enter the second number: 1\n",
      "Sum: 3.0\n",
      "Difference: 1.0\n",
      "Product: 2.0\n",
      "Division: 2.0\n",
      "Divisible\n"
     ]
    }
   ],
   "source": [
    "num1 = float(input(\"Enter the first number: \"))\n",
    "num2 = float(input(\"Enter the second number: \"))\n",
    "\n",
    "print(f\"Sum: {num1 + num2}\")\n",
    "print(f\"Difference: {num1 - num2}\")\n",
    "print(f\"Product: {num1 * num2}\")\n",
    "print(f\"Division: {num1 / num2}\")\n",
    "\n",
    "if num2 != 0:\n",
    "    divisible = \"Divisible\" if num1 % num2 == 0 else \"Not Divisible\"\n",
    "    print(divisible)\n",
    "else:\n",
    "    print(\"Division by zero is not allowed.\")\n"
   ]
  },
  {
   "cell_type": "code",
   "execution_count": null,
   "id": "01519308",
   "metadata": {},
   "outputs": [],
   "source": []
  }
 ],
 "metadata": {
  "kernelspec": {
   "display_name": "Python 3 (ipykernel)",
   "language": "python",
   "name": "python3"
  },
  "language_info": {
   "codemirror_mode": {
    "name": "ipython",
    "version": 3
   },
   "file_extension": ".py",
   "mimetype": "text/x-python",
   "name": "python",
   "nbconvert_exporter": "python",
   "pygments_lexer": "ipython3",
   "version": "3.11.5"
  }
 },
 "nbformat": 4,
 "nbformat_minor": 5
}
