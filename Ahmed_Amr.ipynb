{
 "cells": [
  {
   "cell_type": "code",
   "execution_count": 1,
   "id": "82951e7e",
   "metadata": {},
   "outputs": [
    {
     "name": "stdout",
     "output_type": "stream",
     "text": [
      "First 5 elements: [2, 5, 7, 10, 12]\n",
      "Last 3 elements: [18, 19, 20]\n",
      "Elements from index 3 to 7: [10, 12, 15, 17, 18]\n"
     ]
    }
   ],
   "source": [
    "# Question 1\n",
    "# Create a list of 10 integers ranging from 1 to 20\n",
    "integer_list = [2, 5, 7, 10, 12, 15, 17, 18, 19, 20]\n",
    "\n",
    "# Extract and print the first 5 elements of the list\n",
    "print(\"First 5 elements:\", integer_list[:5])\n",
    "\n",
    "# Extract and print the last 3 elements using negative indexing\n",
    "print(\"Last 3 elements:\", integer_list[-3:])\n",
    "\n",
    "# Extract and print all elements from index 3 to index 7\n",
    "print(\"Elements from index 3 to 7:\", integer_list[3:8])\n"
   ]
  },
  {
   "cell_type": "code",
   "execution_count": 2,
   "id": "28dcd398",
   "metadata": {},
   "outputs": [
    {
     "name": "stdout",
     "output_type": "stream",
     "text": [
      "Updated list of fruits: ['apple', 'banana', 'cherry', 'date', 'elderberry', 'fig']\n"
     ]
    }
   ],
   "source": [
    "# Question 2\n",
    "# Create a list of 5 different fruits\n",
    "fruits = [\"apple\", \"banana\", \"cherry\", \"date\", \"elderberry\"]\n",
    "\n",
    "# Add two more fruits to the list\n",
    "fruits.append(\"fig\")\n",
    "fruits.append(\"grape\")\n",
    "\n",
    "# Remove the last fruit in the list\n",
    "fruits.pop()\n",
    "\n",
    "# Print the updated list\n",
    "print(\"Updated list of fruits:\", fruits)\n"
   ]
  },
  {
   "cell_type": "code",
   "execution_count": 3,
   "id": "cabe0235",
   "metadata": {},
   "outputs": [
    {
     "name": "stdout",
     "output_type": "stream",
     "text": [
      "The second city is: Paris\n"
     ]
    }
   ],
   "source": [
    "# Question 3\n",
    "# Create a tuple that contains 5 different cities\n",
    "cities = (\"New York\", \"Paris\", \"Tokyo\", \"Berlin\", \"Sydney\")\n",
    "\n",
    "# Access and print the second city in the tuple\n",
    "print(\"The second city is:\", cities[1])\n",
    "\n",
    "# Try to change the value of the second city in the tuple\n",
    "# cities[1] = \"London\"  # Uncommenting this line will raise an error\n"
   ]
  },
  {
   "cell_type": "code",
   "execution_count": 4,
   "id": "a9e1874e",
   "metadata": {},
   "outputs": [
    {
     "name": "stdout",
     "output_type": "stream",
     "text": [
      "Age: 30\n",
      "Updated dictionary: {'name': 'John', 'age': 30, 'job': 'Engineer'}\n"
     ]
    }
   ],
   "source": [
    "# Question 4\n",
    "# Create a dictionary with the specified keys and values\n",
    "person = {'name': 'John', 'age': 30, 'city': 'New York'}\n",
    "\n",
    "# Print the value of the 'age' key\n",
    "print(\"Age:\", person['age'])\n",
    "\n",
    "# Add a new key-value pair 'job': 'Engineer' to the dictionary\n",
    "person['job'] = 'Engineer'\n",
    "\n",
    "# Remove the 'city' key and print the updated dictionary\n",
    "del person['city']\n",
    "print(\"Updated dictionary:\", person)\n"
   ]
  },
  {
   "cell_type": "code",
   "execution_count": 5,
   "id": "734f9d5e",
   "metadata": {},
   "outputs": [
    {
     "name": "stdout",
     "output_type": "stream",
     "text": [
      "Alice is 25 years old.\n",
      "Bob is 30 years old.\n",
      "Charlie is 35 years old.\n"
     ]
    }
   ],
   "source": [
    "# Question 5\n",
    "# Create a dictionary to store the names and ages of 3 people\n",
    "people = {\n",
    "    'Alice': 25,\n",
    "    'Bob': 30,\n",
    "    'Charlie': 35\n",
    "}\n",
    "\n",
    "# Print each person's name and their corresponding age using a loop\n",
    "for name, age in people.items():\n",
    "    print(f\"{name} is {age} years old.\")\n"
   ]
  },
  {
   "cell_type": "code",
   "execution_count": 6,
   "id": "2e722d67",
   "metadata": {},
   "outputs": [
    {
     "name": "stdout",
     "output_type": "stream",
     "text": [
      "Enter your age: 20\n",
      "Adult\n"
     ]
    }
   ],
   "source": [
    "# Question 6\n",
    "# Take the user's age as input\n",
    "age = int(input(\"Enter your age: \"))\n",
    "\n",
    "# Check if the user is an adult or a minor\n",
    "if age >= 18:\n",
    "    print(\"Adult\")\n",
    "else:\n",
    "    print(\"Minor\")\n"
   ]
  },
  {
   "cell_type": "code",
   "execution_count": 7,
   "id": "64c39c96",
   "metadata": {},
   "outputs": [
    {
     "name": "stdout",
     "output_type": "stream",
     "text": [
      "Enter a number: 65\n",
      "Odd\n"
     ]
    }
   ],
   "source": [
    "# Question 7\n",
    "# Take a number from the user as input\n",
    "number = int(input(\"Enter a number: \"))\n",
    "\n",
    "# Check if the number is even or odd using if-else\n",
    "if number % 2 == 0:\n",
    "    print(\"Even\")\n",
    "else:\n",
    "    print(\"Odd\")\n"
   ]
  },
  {
   "cell_type": "code",
   "execution_count": 8,
   "id": "b969f005",
   "metadata": {},
   "outputs": [
    {
     "name": "stdout",
     "output_type": "stream",
     "text": [
      "Enter your score: 70\n",
      "B\n"
     ]
    }
   ],
   "source": [
    "# Question 8\n",
    "# Take a score from the user as input\n",
    "score = int(input(\"Enter your score: \"))\n",
    "\n",
    "# Determine the grade based on the score\n",
    "if score >= 90:\n",
    "    print(\"A\")\n",
    "elif 70 <= score <= 89:\n",
    "    print(\"B\")\n",
    "elif 50 <= score <= 69:\n",
    "    print(\"C\")\n",
    "else:\n",
    "    print(\"F\")\n"
   ]
  },
  {
   "cell_type": "code",
   "execution_count": 9,
   "id": "45abfec8",
   "metadata": {},
   "outputs": [
    {
     "name": "stdout",
     "output_type": "stream",
     "text": [
      "2\n",
      "4\n",
      "6\n",
      "8\n",
      "10\n",
      "12\n",
      "14\n",
      "16\n",
      "18\n",
      "20\n"
     ]
    }
   ],
   "source": [
    "# Question 9\n",
    "# Using a for loop to print all even numbers between 1 and 20\n",
    "for number in range(1, 21):\n",
    "    if number % 2 == 0:\n",
    "        print(number)\n"
   ]
  },
  {
   "cell_type": "code",
   "execution_count": 10,
   "id": "a2ab3904",
   "metadata": {},
   "outputs": [
    {
     "name": "stdout",
     "output_type": "stream",
     "text": [
      "10\n",
      "9\n",
      "8\n",
      "7\n",
      "6\n",
      "5\n",
      "4\n",
      "3\n",
      "2\n",
      "1\n"
     ]
    }
   ],
   "source": [
    "# Question 10\n",
    "# Using a while loop to print the numbers from 10 to 1 in descending order\n",
    "number = 10\n",
    "while number >= 1:\n",
    "    print(number)\n",
    "    number -= 1\n"
   ]
  },
  {
   "cell_type": "code",
   "execution_count": 11,
   "id": "aa1226a2",
   "metadata": {},
   "outputs": [
    {
     "name": "stdout",
     "output_type": "stream",
     "text": [
      "Enter a number: 45\n",
      "The sum of numbers from 1 to 45 is: 1035\n"
     ]
    }
   ],
   "source": [
    "# Question 11\n",
    "# Asking the user to input a number\n",
    "end_number = int(input(\"Enter a number: \"))\n",
    "\n",
    "# Using a for loop to calculate the sum of all numbers from 1 to the entered number\n",
    "total_sum = 0\n",
    "for number in range(1, end_number + 1):\n",
    "    total_sum += number\n",
    "\n",
    "# Printing the result\n",
    "print(\"The sum of numbers from 1 to\", end_number, \"is:\", total_sum)\n"
   ]
  },
  {
   "cell_type": "code",
   "execution_count": 12,
   "id": "2e728d35",
   "metadata": {},
   "outputs": [
    {
     "name": "stdout",
     "output_type": "stream",
     "text": [
      "Enter your name: Ahmed Amr\n",
      "Enter your age: 20\n",
      "Hello, Ahmed Amr! You are 20 years old.\n"
     ]
    }
   ],
   "source": [
    "# Question 12\n",
    "# Ask the user for their name and age\n",
    "name = input(\"Enter your name: \")\n",
    "age = input(\"Enter your age: \")\n",
    "\n",
    "# Print a greeting message with the name and age\n",
    "print(f\"Hello, {name}! You are {age} years old.\")\n"
   ]
  },
  {
   "cell_type": "code",
   "execution_count": 13,
   "id": "1baf92ba",
   "metadata": {},
   "outputs": [
    {
     "name": "stdout",
     "output_type": "stream",
     "text": [
      "Enter your favorite color: red\n",
      "That's a nice color too!\n"
     ]
    }
   ],
   "source": [
    "# Question 13\n",
    "# Ask the user for their favorite color\n",
    "favorite_color = input(\"Enter your favorite color: \")\n",
    "\n",
    "# Check if the favorite color is 'blue' and print the appropriate message\n",
    "if favorite_color.lower() == 'blue':\n",
    "    print(\"You have great taste!\")\n",
    "else:\n",
    "    print(\"That's a nice color too!\")\n"
   ]
  },
  {
   "cell_type": "code",
   "execution_count": 14,
   "id": "c49649f6",
   "metadata": {},
   "outputs": [
    {
     "name": "stdout",
     "output_type": "stream",
     "text": [
      "Enter 5 numbers:\n",
      "Enter number 1: 4\n",
      "Enter number 2: 7\n",
      "Enter number 3: 9\n",
      "Enter number 4: 4\n",
      "Enter number 5: 2\n",
      "Average of the numbers: 5.2\n",
      "Largest number: 9.0\n",
      "Smallest number: 2.0\n"
     ]
    }
   ],
   "source": [
    "# Question 14\n",
    "# Ask the user to enter a list of 5 numbers\n",
    "numbers = []\n",
    "print(\"Enter 5 numbers:\")\n",
    "for i in range(5):\n",
    "    num = float(input(f\"Enter number {i+1}: \"))\n",
    "    numbers.append(num)\n",
    "\n",
    "# Calculate and print the average of the numbers\n",
    "average = sum(numbers) / len(numbers)\n",
    "print(\"Average of the numbers:\", average)\n",
    "\n",
    "# Print the largest and smallest numbers from the list\n",
    "largest = max(numbers)\n",
    "smallest = min(numbers)\n",
    "print(\"Largest number:\", largest)\n",
    "print(\"Smallest number:\", smallest)\n"
   ]
  },
  {
   "cell_type": "code",
   "execution_count": null,
   "id": "d2c81e62",
   "metadata": {},
   "outputs": [],
   "source": [
    "# Thank you\n"
   ]
  }
 ],
 "metadata": {
  "kernelspec": {
   "display_name": "Python 3 (ipykernel)",
   "language": "python",
   "name": "python3"
  },
  "language_info": {
   "codemirror_mode": {
    "name": "ipython",
    "version": 3
   },
   "file_extension": ".py",
   "mimetype": "text/x-python",
   "name": "python",
   "nbconvert_exporter": "python",
   "pygments_lexer": "ipython3",
   "version": "3.11.5"
  }
 },
 "nbformat": 4,
 "nbformat_minor": 5
}
